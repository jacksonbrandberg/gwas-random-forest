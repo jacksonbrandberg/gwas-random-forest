{
 "cells": [
  {
   "cell_type": "code",
   "execution_count": 1,
   "metadata": {},
   "outputs": [
    {
     "data": {
      "text/html": [
       "<div>\n",
       "<style scoped>\n",
       "    .dataframe tbody tr th:only-of-type {\n",
       "        vertical-align: middle;\n",
       "    }\n",
       "\n",
       "    .dataframe tbody tr th {\n",
       "        vertical-align: top;\n",
       "    }\n",
       "\n",
       "    .dataframe thead th {\n",
       "        text-align: right;\n",
       "    }\n",
       "</style>\n",
       "<table border=\"1\" class=\"dataframe\">\n",
       "  <thead>\n",
       "    <tr style=\"text-align: right;\">\n",
       "      <th></th>\n",
       "      <th>1</th>\n",
       "      <th>2</th>\n",
       "      <th>3</th>\n",
       "      <th>4</th>\n",
       "      <th>5</th>\n",
       "      <th>6</th>\n",
       "      <th>7</th>\n",
       "      <th>8</th>\n",
       "      <th>9</th>\n",
       "      <th>10</th>\n",
       "      <th>...</th>\n",
       "      <th>9991</th>\n",
       "      <th>9992</th>\n",
       "      <th>9993</th>\n",
       "      <th>9994</th>\n",
       "      <th>9995</th>\n",
       "      <th>9996</th>\n",
       "      <th>9997</th>\n",
       "      <th>9998</th>\n",
       "      <th>9999</th>\n",
       "      <th>10000</th>\n",
       "    </tr>\n",
       "  </thead>\n",
       "  <tbody>\n",
       "    <tr>\n",
       "      <th>0</th>\n",
       "      <td>1</td>\n",
       "      <td>0</td>\n",
       "      <td>0</td>\n",
       "      <td>0</td>\n",
       "      <td>0</td>\n",
       "      <td>0</td>\n",
       "      <td>0</td>\n",
       "      <td>0</td>\n",
       "      <td>0</td>\n",
       "      <td>0</td>\n",
       "      <td>...</td>\n",
       "      <td>0</td>\n",
       "      <td>0</td>\n",
       "      <td>0</td>\n",
       "      <td>0</td>\n",
       "      <td>0</td>\n",
       "      <td>0</td>\n",
       "      <td>0</td>\n",
       "      <td>0</td>\n",
       "      <td>0</td>\n",
       "      <td>0</td>\n",
       "    </tr>\n",
       "    <tr>\n",
       "      <th>1</th>\n",
       "      <td>1</td>\n",
       "      <td>0</td>\n",
       "      <td>0</td>\n",
       "      <td>0</td>\n",
       "      <td>0</td>\n",
       "      <td>0</td>\n",
       "      <td>0</td>\n",
       "      <td>2</td>\n",
       "      <td>0</td>\n",
       "      <td>0</td>\n",
       "      <td>...</td>\n",
       "      <td>0</td>\n",
       "      <td>0</td>\n",
       "      <td>0</td>\n",
       "      <td>0</td>\n",
       "      <td>0</td>\n",
       "      <td>0</td>\n",
       "      <td>0</td>\n",
       "      <td>0</td>\n",
       "      <td>0</td>\n",
       "      <td>0</td>\n",
       "    </tr>\n",
       "    <tr>\n",
       "      <th>2</th>\n",
       "      <td>1</td>\n",
       "      <td>0</td>\n",
       "      <td>0</td>\n",
       "      <td>0</td>\n",
       "      <td>0</td>\n",
       "      <td>0</td>\n",
       "      <td>0</td>\n",
       "      <td>2</td>\n",
       "      <td>0</td>\n",
       "      <td>0</td>\n",
       "      <td>...</td>\n",
       "      <td>0</td>\n",
       "      <td>0</td>\n",
       "      <td>0</td>\n",
       "      <td>0</td>\n",
       "      <td>0</td>\n",
       "      <td>0</td>\n",
       "      <td>0</td>\n",
       "      <td>0</td>\n",
       "      <td>0</td>\n",
       "      <td>0</td>\n",
       "    </tr>\n",
       "    <tr>\n",
       "      <th>3</th>\n",
       "      <td>1</td>\n",
       "      <td>0</td>\n",
       "      <td>0</td>\n",
       "      <td>0</td>\n",
       "      <td>0</td>\n",
       "      <td>0</td>\n",
       "      <td>0</td>\n",
       "      <td>0</td>\n",
       "      <td>0</td>\n",
       "      <td>0</td>\n",
       "      <td>...</td>\n",
       "      <td>0</td>\n",
       "      <td>0</td>\n",
       "      <td>0</td>\n",
       "      <td>0</td>\n",
       "      <td>0</td>\n",
       "      <td>0</td>\n",
       "      <td>0</td>\n",
       "      <td>0</td>\n",
       "      <td>0</td>\n",
       "      <td>0</td>\n",
       "    </tr>\n",
       "    <tr>\n",
       "      <th>4</th>\n",
       "      <td>1</td>\n",
       "      <td>0</td>\n",
       "      <td>0</td>\n",
       "      <td>0</td>\n",
       "      <td>0</td>\n",
       "      <td>0</td>\n",
       "      <td>0</td>\n",
       "      <td>0</td>\n",
       "      <td>0</td>\n",
       "      <td>0</td>\n",
       "      <td>...</td>\n",
       "      <td>0</td>\n",
       "      <td>0</td>\n",
       "      <td>0</td>\n",
       "      <td>0</td>\n",
       "      <td>0</td>\n",
       "      <td>0</td>\n",
       "      <td>0</td>\n",
       "      <td>0</td>\n",
       "      <td>0</td>\n",
       "      <td>0</td>\n",
       "    </tr>\n",
       "    <tr>\n",
       "      <th>...</th>\n",
       "      <td>...</td>\n",
       "      <td>...</td>\n",
       "      <td>...</td>\n",
       "      <td>...</td>\n",
       "      <td>...</td>\n",
       "      <td>...</td>\n",
       "      <td>...</td>\n",
       "      <td>...</td>\n",
       "      <td>...</td>\n",
       "      <td>...</td>\n",
       "      <td>...</td>\n",
       "      <td>...</td>\n",
       "      <td>...</td>\n",
       "      <td>...</td>\n",
       "      <td>...</td>\n",
       "      <td>...</td>\n",
       "      <td>...</td>\n",
       "      <td>...</td>\n",
       "      <td>...</td>\n",
       "      <td>...</td>\n",
       "      <td>...</td>\n",
       "    </tr>\n",
       "    <tr>\n",
       "      <th>1345</th>\n",
       "      <td>1</td>\n",
       "      <td>0</td>\n",
       "      <td>0</td>\n",
       "      <td>0</td>\n",
       "      <td>0</td>\n",
       "      <td>0</td>\n",
       "      <td>0</td>\n",
       "      <td>0</td>\n",
       "      <td>0</td>\n",
       "      <td>0</td>\n",
       "      <td>...</td>\n",
       "      <td>0</td>\n",
       "      <td>0</td>\n",
       "      <td>0</td>\n",
       "      <td>0</td>\n",
       "      <td>0</td>\n",
       "      <td>0</td>\n",
       "      <td>0</td>\n",
       "      <td>0</td>\n",
       "      <td>0</td>\n",
       "      <td>0</td>\n",
       "    </tr>\n",
       "    <tr>\n",
       "      <th>1346</th>\n",
       "      <td>1</td>\n",
       "      <td>0</td>\n",
       "      <td>0</td>\n",
       "      <td>0</td>\n",
       "      <td>0</td>\n",
       "      <td>0</td>\n",
       "      <td>0</td>\n",
       "      <td>0</td>\n",
       "      <td>0</td>\n",
       "      <td>0</td>\n",
       "      <td>...</td>\n",
       "      <td>0</td>\n",
       "      <td>0</td>\n",
       "      <td>0</td>\n",
       "      <td>0</td>\n",
       "      <td>0</td>\n",
       "      <td>0</td>\n",
       "      <td>0</td>\n",
       "      <td>0</td>\n",
       "      <td>0</td>\n",
       "      <td>0</td>\n",
       "    </tr>\n",
       "    <tr>\n",
       "      <th>1347</th>\n",
       "      <td>1</td>\n",
       "      <td>0</td>\n",
       "      <td>0</td>\n",
       "      <td>0</td>\n",
       "      <td>0</td>\n",
       "      <td>0</td>\n",
       "      <td>0</td>\n",
       "      <td>0</td>\n",
       "      <td>0</td>\n",
       "      <td>0</td>\n",
       "      <td>...</td>\n",
       "      <td>0</td>\n",
       "      <td>0</td>\n",
       "      <td>0</td>\n",
       "      <td>0</td>\n",
       "      <td>0</td>\n",
       "      <td>0</td>\n",
       "      <td>0</td>\n",
       "      <td>0</td>\n",
       "      <td>0</td>\n",
       "      <td>0</td>\n",
       "    </tr>\n",
       "    <tr>\n",
       "      <th>1348</th>\n",
       "      <td>1</td>\n",
       "      <td>0</td>\n",
       "      <td>0</td>\n",
       "      <td>0</td>\n",
       "      <td>0</td>\n",
       "      <td>0</td>\n",
       "      <td>0</td>\n",
       "      <td>0</td>\n",
       "      <td>0</td>\n",
       "      <td>0</td>\n",
       "      <td>...</td>\n",
       "      <td>0</td>\n",
       "      <td>0</td>\n",
       "      <td>0</td>\n",
       "      <td>0</td>\n",
       "      <td>0</td>\n",
       "      <td>0</td>\n",
       "      <td>0</td>\n",
       "      <td>0</td>\n",
       "      <td>0</td>\n",
       "      <td>0</td>\n",
       "    </tr>\n",
       "    <tr>\n",
       "      <th>1349</th>\n",
       "      <td>1</td>\n",
       "      <td>0</td>\n",
       "      <td>0</td>\n",
       "      <td>0</td>\n",
       "      <td>0</td>\n",
       "      <td>0</td>\n",
       "      <td>0</td>\n",
       "      <td>1</td>\n",
       "      <td>0</td>\n",
       "      <td>0</td>\n",
       "      <td>...</td>\n",
       "      <td>0</td>\n",
       "      <td>0</td>\n",
       "      <td>0</td>\n",
       "      <td>0</td>\n",
       "      <td>0</td>\n",
       "      <td>0</td>\n",
       "      <td>0</td>\n",
       "      <td>0</td>\n",
       "      <td>0</td>\n",
       "      <td>0</td>\n",
       "    </tr>\n",
       "  </tbody>\n",
       "</table>\n",
       "<p>1350 rows × 10000 columns</p>\n",
       "</div>"
      ],
      "text/plain": [
       "      1  2  3  4  5  6  7  8  9  10  ...  9991  9992  9993  9994  9995  9996  \\\n",
       "0     1  0  0  0  0  0  0  0  0   0  ...     0     0     0     0     0     0   \n",
       "1     1  0  0  0  0  0  0  2  0   0  ...     0     0     0     0     0     0   \n",
       "2     1  0  0  0  0  0  0  2  0   0  ...     0     0     0     0     0     0   \n",
       "3     1  0  0  0  0  0  0  0  0   0  ...     0     0     0     0     0     0   \n",
       "4     1  0  0  0  0  0  0  0  0   0  ...     0     0     0     0     0     0   \n",
       "...  .. .. .. .. .. .. .. .. ..  ..  ...   ...   ...   ...   ...   ...   ...   \n",
       "1345  1  0  0  0  0  0  0  0  0   0  ...     0     0     0     0     0     0   \n",
       "1346  1  0  0  0  0  0  0  0  0   0  ...     0     0     0     0     0     0   \n",
       "1347  1  0  0  0  0  0  0  0  0   0  ...     0     0     0     0     0     0   \n",
       "1348  1  0  0  0  0  0  0  0  0   0  ...     0     0     0     0     0     0   \n",
       "1349  1  0  0  0  0  0  0  1  0   0  ...     0     0     0     0     0     0   \n",
       "\n",
       "      9997  9998  9999  10000  \n",
       "0        0     0     0      0  \n",
       "1        0     0     0      0  \n",
       "2        0     0     0      0  \n",
       "3        0     0     0      0  \n",
       "4        0     0     0      0  \n",
       "...    ...   ...   ...    ...  \n",
       "1345     0     0     0      0  \n",
       "1346     0     0     0      0  \n",
       "1347     0     0     0      0  \n",
       "1348     0     0     0      0  \n",
       "1349     0     0     0      0  \n",
       "\n",
       "[1350 rows x 10000 columns]"
      ]
     },
     "execution_count": 1,
     "metadata": {},
     "output_type": "execute_result"
    }
   ],
   "source": [
    "# read in the data here\n",
    "import pandas as pd\n",
    "import numpy as np\n",
    "from pandas import DataFrame\n",
    "import os\n",
    "df = pd.read_csv('../data/chrom_11_clean.csv', )\n",
    "df"
   ]
  },
  {
   "cell_type": "code",
   "execution_count": 2,
   "metadata": {},
   "outputs": [],
   "source": [
    "X = df.values"
   ]
  },
  {
   "cell_type": "code",
   "execution_count": 4,
   "metadata": {},
   "outputs": [
    {
     "name": "stderr",
     "output_type": "stream",
     "text": [
      "<ipython-input-4-a0310b7294ea>:9: RuntimeWarning: invalid value encountered in true_divide\n",
      "  X=np.nan_to_num((X-Xmean)/Xstd) # Standardized genotype matrix based on means and standard deviations\n"
     ]
    }
   ],
   "source": [
    "from sklearn.decomposition import PCA\n",
    "n=X.shape[0]\n",
    "p=X.shape[1]\n",
    "ncausal_SNPs=30\n",
    "\n",
    "## Normalize genotype data:\n",
    "Xmean= np.mean(X, axis=0) #mean of each column, which corresponds to a SNP locus\n",
    "Xstd= np.std(X,axis=0) #standard deviation of each column\n",
    "X=np.nan_to_num((X-Xmean)/Xstd) # Standardized genotype matrix based on means and standard deviations\n",
    "# of each SNP locus. This is the final X. I use np.nan_to_num in case we get NaN values due to \n",
    "# 0 division, i.e. if everything in a column is 0, the mean and standard deviation will also be 0, \n",
    "# then we will get NaN values. np.nan_to_num turns NaNs into \"0\"s. This seemed like a good idea to me\n",
    "H2= 0.8 #80% of phenotypic variation is explained by genotype (heritability)\n",
    "rho= 1 #100% of H^2 is explained by additive effects "
   ]
  },
  {
   "cell_type": "code",
   "execution_count": 7,
   "metadata": {},
   "outputs": [],
   "source": [
    "from sklearn.compose import ColumnTransformer\n",
    "from sklearn.pipeline import Pipeline\n",
    "from sklearn.preprocessing import StandardScaler, OneHotEncoder, OrdinalEncoder, MinMaxScaler\n",
    "from sklearn.model_selection import train_test_split\n",
    "from sklearn.model_selection import StratifiedKFold\n",
    "from sklearn.preprocessing import LabelEncoder\n",
    "from sklearn.linear_model import LogisticRegression\n",
    "from sklearn.metrics import precision_score, recall_score, accuracy_score, fbeta_score\n",
    "from sklearn.model_selection import ParameterGrid\n",
    "from sklearn.metrics import log_loss\n",
    "from sklearn.metrics import precision_score, recall_score, accuracy_score, fbeta_score\n",
    "from sklearn.model_selection import KFold\n",
    "from sklearn.model_selection import train_test_split\n",
    "from sklearn.preprocessing import StandardScaler\n",
    "from sklearn.linear_model import Lasso\n",
    "from sklearn.model_selection import GridSearchCV\n",
    "from sklearn.pipeline import make_pipeline\n",
    "from sklearn.metrics import mean_squared_error, make_scorer\n",
    "from sklearn.neighbors import KNeighborsClassifier\n",
    "from sklearn.ensemble import RandomForestRegressor\n",
    "import pandas as pd\n",
    "import statistics"
   ]
  },
  {
   "cell_type": "code",
   "execution_count": 30,
   "metadata": {},
   "outputs": [],
   "source": [
    "def MLpipe_KFold_RMSE(X,ML_algo,param_grid):\n",
    "    '''\n",
    "    This function splits the data to other/test (80/20) and then applies KFold with 4 folds to other.\n",
    "    The RMSE is minimized in cross-validation.\n",
    "    '''\n",
    "    \n",
    "    test_scores = []\n",
    "    best_models = []\n",
    "    causal_SNPs_list = []\n",
    "    top_features_list = []\n",
    "    y_tests = []\n",
    "    y_preds = []\n",
    "    \n",
    "    for i in range(10):\n",
    "        \n",
    "        random_state = i * 112\n",
    "        np.random.seed(random_state)\n",
    "        causalSNPs = np.random.randint(low=0, high=10000, size=ncausal_SNPs)\n",
    "        causal_SNPs_list.append(causalSNPs)\n",
    "        Xadditive = X[:, causalSNPs] #the values for causal SNPs.\n",
    "        betaAdd = np.repeat(1, ncausal_SNPs)#additive effect sizes initializes as \"1\"\n",
    "        y_additive = np.dot(Xadditive, betaAdd) #initialize the value of the portion of phenotypic variation\n",
    "        # caused by the additive effects as XB.\n",
    "        betaAdd = betaAdd * np.sqrt(H2*rho/np.var(y_additive)) #Update additive effect sizes based on H^2, rho, and variation\n",
    "        #in y_additive.\n",
    "        y_additive = np.dot(Xadditive, betaAdd) #final value of y_additive, updated.\n",
    "        y_additive = y_additive.reshape(n,1)\n",
    "        y_noise = np.random.normal(size=n)\n",
    "        y_noise = y_noise * np.sqrt((1 - H2-0.1) / np.var(y_noise))\n",
    "        y_noise = y_noise.reshape(n,1)\n",
    "        y = y_additive + y_noise #np.add(y_additive.reshape(n, 1), y_noise.reshape(n, 1), y_PC, y_epi.reshape(n, 1))\n",
    "        \n",
    "        X_other, X_test, y_other, y_test = train_test_split(X,y,test_size = 0.2,random_state=random_state)\n",
    "        y_tests.append(y_test)\n",
    "        \n",
    "        kf = KFold(n_splits=4,shuffle=True,random_state= random_state)  \n",
    "        \n",
    "        grid = GridSearchCV(estimator = ML_algo, param_grid=param_grid,scoring = 'neg_root_mean_squared_error',\n",
    "                    cv=kf, return_train_score = True, verbose=True, n_jobs = -1)\n",
    "        \n",
    "        grid.fit(X_other, y_other.ravel())\n",
    "        \n",
    "        results = pd.DataFrame(grid.cv_results_)\n",
    "        \n",
    "        print('best model parameters:',grid.best_params_)\n",
    "        best_models.append(grid)\n",
    "        y_test_pred = best_models[-1].predict(X_test)\n",
    "        y_preds.append(y_test_pred)\n",
    "        test_scores.append(mean_squared_error(y_test,y_test_pred)**(0.5))\n",
    "        \n",
    "        feature_importances = grid.best_estimator_.feature_importances_\n",
    "        all_snps = np.array(list(range(0, 10000)))\n",
    "        \n",
    "        data={'feature_names':all_snps,'feature_importance':feature_importances}\n",
    "        fi_df = pd.DataFrame(data)\n",
    "        fi_df.sort_values(by=['feature_importance'], ascending=False,inplace=True)\n",
    "        \n",
    "        top_features = fi_df['feature_names']\n",
    "        top_features = np.array(top_features)\n",
    "        top_features_list.append(top_features)        \n",
    "    \n",
    "    print(np.mean(test_scores))\n",
    "    print(np.std(test_scores))\n",
    "    return best_models, test_scores, causal_SNPs_list, top_features_list, y_tests, y_preds\n"
   ]
  },
  {
   "cell_type": "code",
   "execution_count": 14,
   "metadata": {
    "scrolled": true
   },
   "outputs": [
    {
     "name": "stdout",
     "output_type": "stream",
     "text": [
      "Fitting 4 folds for each of 36 candidates, totalling 144 fits\n"
     ]
    },
    {
     "name": "stderr",
     "output_type": "stream",
     "text": [
      "[Parallel(n_jobs=-1)]: Using backend LokyBackend with 8 concurrent workers.\n",
      "[Parallel(n_jobs=-1)]: Done  34 tasks      | elapsed:   15.4s\n",
      "[Parallel(n_jobs=-1)]: Done 144 out of 144 | elapsed:  8.5min finished\n"
     ]
    },
    {
     "name": "stdout",
     "output_type": "stream",
     "text": [
      "best model parameters: {'max_depth': 30, 'max_features': 10000, 'n_estimators': 100}\n",
      "Fitting 4 folds for each of 36 candidates, totalling 144 fits\n"
     ]
    },
    {
     "name": "stderr",
     "output_type": "stream",
     "text": [
      "[Parallel(n_jobs=-1)]: Using backend LokyBackend with 8 concurrent workers.\n",
      "[Parallel(n_jobs=-1)]: Done  34 tasks      | elapsed:   14.7s\n",
      "[Parallel(n_jobs=-1)]: Done 144 out of 144 | elapsed:  6.9min finished\n"
     ]
    },
    {
     "name": "stdout",
     "output_type": "stream",
     "text": [
      "best model parameters: {'max_depth': 30, 'max_features': 10000, 'n_estimators': 100}\n",
      "Fitting 4 folds for each of 36 candidates, totalling 144 fits\n"
     ]
    },
    {
     "name": "stderr",
     "output_type": "stream",
     "text": [
      "[Parallel(n_jobs=-1)]: Using backend LokyBackend with 8 concurrent workers.\n",
      "[Parallel(n_jobs=-1)]: Done  34 tasks      | elapsed:   18.2s\n",
      "[Parallel(n_jobs=-1)]: Done 144 out of 144 | elapsed:  9.0min finished\n"
     ]
    },
    {
     "name": "stdout",
     "output_type": "stream",
     "text": [
      "best model parameters: {'max_depth': 100, 'max_features': 10000, 'n_estimators': 100}\n",
      "Fitting 4 folds for each of 36 candidates, totalling 144 fits\n"
     ]
    },
    {
     "name": "stderr",
     "output_type": "stream",
     "text": [
      "[Parallel(n_jobs=-1)]: Using backend LokyBackend with 8 concurrent workers.\n",
      "[Parallel(n_jobs=-1)]: Done  34 tasks      | elapsed:   19.2s\n",
      "[Parallel(n_jobs=-1)]: Done 144 out of 144 | elapsed: 10.2min finished\n"
     ]
    },
    {
     "name": "stdout",
     "output_type": "stream",
     "text": [
      "best model parameters: {'max_depth': 30, 'max_features': 5000, 'n_estimators': 100}\n",
      "Fitting 4 folds for each of 36 candidates, totalling 144 fits\n"
     ]
    },
    {
     "name": "stderr",
     "output_type": "stream",
     "text": [
      "[Parallel(n_jobs=-1)]: Using backend LokyBackend with 8 concurrent workers.\n",
      "[Parallel(n_jobs=-1)]: Done  34 tasks      | elapsed:   16.9s\n",
      "[Parallel(n_jobs=-1)]: Done 144 out of 144 | elapsed:  6.9min finished\n"
     ]
    },
    {
     "name": "stdout",
     "output_type": "stream",
     "text": [
      "best model parameters: {'max_depth': 100, 'max_features': 10000, 'n_estimators': 100}\n",
      "Fitting 4 folds for each of 36 candidates, totalling 144 fits\n"
     ]
    },
    {
     "name": "stderr",
     "output_type": "stream",
     "text": [
      "[Parallel(n_jobs=-1)]: Using backend LokyBackend with 8 concurrent workers.\n",
      "[Parallel(n_jobs=-1)]: Done  34 tasks      | elapsed:   16.5s\n",
      "[Parallel(n_jobs=-1)]: Done 144 out of 144 | elapsed:  7.9min finished\n"
     ]
    },
    {
     "name": "stdout",
     "output_type": "stream",
     "text": [
      "best model parameters: {'max_depth': 100, 'max_features': 10000, 'n_estimators': 100}\n",
      "Fitting 4 folds for each of 36 candidates, totalling 144 fits\n"
     ]
    },
    {
     "name": "stderr",
     "output_type": "stream",
     "text": [
      "[Parallel(n_jobs=-1)]: Using backend LokyBackend with 8 concurrent workers.\n",
      "[Parallel(n_jobs=-1)]: Done  34 tasks      | elapsed:   15.3s\n",
      "[Parallel(n_jobs=-1)]: Done 144 out of 144 | elapsed:  6.9min finished\n"
     ]
    },
    {
     "name": "stdout",
     "output_type": "stream",
     "text": [
      "best model parameters: {'max_depth': 300, 'max_features': 5000, 'n_estimators': 100}\n",
      "Fitting 4 folds for each of 36 candidates, totalling 144 fits\n"
     ]
    },
    {
     "name": "stderr",
     "output_type": "stream",
     "text": [
      "[Parallel(n_jobs=-1)]: Using backend LokyBackend with 8 concurrent workers.\n",
      "[Parallel(n_jobs=-1)]: Done  34 tasks      | elapsed:   14.9s\n",
      "[Parallel(n_jobs=-1)]: Done 144 out of 144 | elapsed:  6.7min finished\n"
     ]
    },
    {
     "name": "stdout",
     "output_type": "stream",
     "text": [
      "best model parameters: {'max_depth': 300, 'max_features': 5000, 'n_estimators': 100}\n",
      "Fitting 4 folds for each of 36 candidates, totalling 144 fits\n"
     ]
    },
    {
     "name": "stderr",
     "output_type": "stream",
     "text": [
      "[Parallel(n_jobs=-1)]: Using backend LokyBackend with 8 concurrent workers.\n",
      "[Parallel(n_jobs=-1)]: Done  34 tasks      | elapsed:   14.9s\n",
      "[Parallel(n_jobs=-1)]: Done 144 out of 144 | elapsed:  5.9min finished\n"
     ]
    },
    {
     "name": "stdout",
     "output_type": "stream",
     "text": [
      "best model parameters: {'max_depth': 100, 'max_features': 10000, 'n_estimators': 100}\n",
      "Fitting 4 folds for each of 36 candidates, totalling 144 fits\n"
     ]
    },
    {
     "name": "stderr",
     "output_type": "stream",
     "text": [
      "[Parallel(n_jobs=-1)]: Using backend LokyBackend with 8 concurrent workers.\n",
      "[Parallel(n_jobs=-1)]: Done  34 tasks      | elapsed:   15.1s\n",
      "[Parallel(n_jobs=-1)]: Done 144 out of 144 | elapsed:  6.1min finished\n"
     ]
    },
    {
     "name": "stdout",
     "output_type": "stream",
     "text": [
      "best model parameters: {'max_depth': 100, 'max_features': 5000, 'n_estimators': 100}\n",
      "Fitting 4 folds for each of 36 candidates, totalling 144 fits\n"
     ]
    },
    {
     "name": "stderr",
     "output_type": "stream",
     "text": [
      "[Parallel(n_jobs=-1)]: Using backend LokyBackend with 8 concurrent workers.\n",
      "[Parallel(n_jobs=-1)]: Done  34 tasks      | elapsed:   14.8s\n",
      "[Parallel(n_jobs=-1)]: Done 144 out of 144 | elapsed:  7.3min finished\n"
     ]
    },
    {
     "name": "stdout",
     "output_type": "stream",
     "text": [
      "best model parameters: {'max_depth': 100, 'max_features': 10000, 'n_estimators': 100}\n",
      "0.7747048825404477\n",
      "0.1567726102477407\n",
      "[[3202, 7512, 7525, 454, 1319, 3563, 8779, 6846, 5715, 3412, 1332, 4820, 7159, 2456, 7518, 4799], [1827, 8900, 357, 134, 5829, 7400, 4265, 8554, 479, 915, 2196, 7477, 4694, 8025, 7386, 1661, 6431], [7072, 772, 5349, 7402, 875, 1868, 6285, 722, 7833, 3159, 4761, 4122, 8923], [4835, 1637, 6216, 1320, 4520, 9165, 6574, 1168, 6705, 7506, 1075, 5844, 6740, 4821, 18, 5112, 6295], [4387, 7876, 9894, 6247, 6344, 8649, 9962, 6539, 8844, 4176, 1169, 8145, 8400, 9206, 3736, 3679], [2592, 7359, 6245, 6537, 4394, 6891, 1644, 4525, 4622, 144, 7766, 4855, 728, 410, 8092, 1501, 9695], [8289, 1220, 1962, 8206, 6353, 6706, 3345, 116, 7445, 1010, 1437, 3710], [2144, 7203, 388, 3369, 398, 9742, 974, 1909, 7061, 5176, 4667, 3484, 893], [1383, 5834, 7947, 3404, 2861, 2222, 2735, 2762, 9263, 589, 3539, 9420, 6453, 6963, 407], [9537, 4738, 3907, 7397, 2791, 940, 8206, 463, 3956, 2742, 9399, 858, 3421], [7105, 7049, 6669, 6189, 2095, 8752, 4335, 5873, 3251, 2868, 9207, 5338, 732, 5823]]\n"
     ]
    }
   ],
   "source": [
    "ML_algo = RandomForestRegressor()\n",
    "param_grid = {'n_estimators':[100],\n",
    "             'max_depth':[1, 3, 10, 30, 100,300],\n",
    "             'max_features':[10, 100, 500, 1000, 5000, 10000]}\n",
    "\n",
    "models, scores, causal_SNPs_list, top_features_list = MLpipe_KFold_RMSE(X,ML_algo,param_grid)\n",
    "print(captured_SNPs_list)"
   ]
  },
  {
   "cell_type": "code",
   "execution_count": 17,
   "metadata": {},
   "outputs": [
    {
     "data": {
      "text/plain": [
       "0.49393939393939396"
      ]
     },
     "execution_count": 17,
     "metadata": {},
     "output_type": "execute_result"
    }
   ],
   "source": [
    "percentage_captured = []\n",
    "for i in range(len(captured_SNPs_list)):\n",
    "    captured_percent = len(captured_SNPs_list[i])/ncausal_SNPs\n",
    "    percentage_captured.append(captured_percent)\n",
    "np.mean(percentage_captured)\n",
    "    "
   ]
  },
  {
   "cell_type": "markdown",
   "metadata": {},
   "source": [
    "### Run again on different hyperparameter grid to further fine-tune. "
   ]
  },
  {
   "cell_type": "code",
   "execution_count": 13,
   "metadata": {},
   "outputs": [
    {
     "name": "stdout",
     "output_type": "stream",
     "text": [
      "Fitting 4 folds for each of 15 candidates, totalling 60 fits\n"
     ]
    },
    {
     "name": "stderr",
     "output_type": "stream",
     "text": [
      "[Parallel(n_jobs=-1)]: Using backend LokyBackend with 8 concurrent workers.\n",
      "[Parallel(n_jobs=-1)]: Done  34 tasks      | elapsed:  5.6min\n",
      "[Parallel(n_jobs=-1)]: Done  60 out of  60 | elapsed:  9.7min finished\n"
     ]
    },
    {
     "name": "stdout",
     "output_type": "stream",
     "text": [
      "best model parameters: {'max_depth': 30, 'max_features': 4000, 'n_estimators': 100}\n",
      "Fitting 4 folds for each of 15 candidates, totalling 60 fits\n"
     ]
    },
    {
     "name": "stderr",
     "output_type": "stream",
     "text": [
      "[Parallel(n_jobs=-1)]: Using backend LokyBackend with 8 concurrent workers.\n",
      "[Parallel(n_jobs=-1)]: Done  34 tasks      | elapsed:  3.7min\n",
      "[Parallel(n_jobs=-1)]: Done  60 out of  60 | elapsed:  6.5min finished\n"
     ]
    },
    {
     "name": "stdout",
     "output_type": "stream",
     "text": [
      "best model parameters: {'max_depth': 300, 'max_features': 2000, 'n_estimators': 100}\n",
      "Fitting 4 folds for each of 15 candidates, totalling 60 fits\n"
     ]
    },
    {
     "name": "stderr",
     "output_type": "stream",
     "text": [
      "[Parallel(n_jobs=-1)]: Using backend LokyBackend with 8 concurrent workers.\n",
      "[Parallel(n_jobs=-1)]: Done  34 tasks      | elapsed:  5.1min\n",
      "[Parallel(n_jobs=-1)]: Done  60 out of  60 | elapsed:  9.1min finished\n"
     ]
    },
    {
     "name": "stdout",
     "output_type": "stream",
     "text": [
      "best model parameters: {'max_depth': 30, 'max_features': 8000, 'n_estimators': 100}\n",
      "Fitting 4 folds for each of 15 candidates, totalling 60 fits\n"
     ]
    },
    {
     "name": "stderr",
     "output_type": "stream",
     "text": [
      "[Parallel(n_jobs=-1)]: Using backend LokyBackend with 8 concurrent workers.\n",
      "[Parallel(n_jobs=-1)]: Done  34 tasks      | elapsed:  4.0min\n",
      "[Parallel(n_jobs=-1)]: Done  60 out of  60 | elapsed:  6.9min finished\n"
     ]
    },
    {
     "name": "stdout",
     "output_type": "stream",
     "text": [
      "best model parameters: {'max_depth': 300, 'max_features': 6000, 'n_estimators': 100}\n",
      "Fitting 4 folds for each of 15 candidates, totalling 60 fits\n"
     ]
    },
    {
     "name": "stderr",
     "output_type": "stream",
     "text": [
      "[Parallel(n_jobs=-1)]: Using backend LokyBackend with 8 concurrent workers.\n",
      "[Parallel(n_jobs=-1)]: Done  34 tasks      | elapsed:  4.8min\n",
      "[Parallel(n_jobs=-1)]: Done  60 out of  60 | elapsed:  8.3min finished\n"
     ]
    },
    {
     "name": "stdout",
     "output_type": "stream",
     "text": [
      "best model parameters: {'max_depth': 30, 'max_features': 10000, 'n_estimators': 100}\n",
      "Fitting 4 folds for each of 15 candidates, totalling 60 fits\n"
     ]
    },
    {
     "name": "stderr",
     "output_type": "stream",
     "text": [
      "[Parallel(n_jobs=-1)]: Using backend LokyBackend with 8 concurrent workers.\n",
      "[Parallel(n_jobs=-1)]: Done  34 tasks      | elapsed:  5.3min\n",
      "[Parallel(n_jobs=-1)]: Done  60 out of  60 | elapsed:  9.0min finished\n"
     ]
    },
    {
     "name": "stdout",
     "output_type": "stream",
     "text": [
      "best model parameters: {'max_depth': 100, 'max_features': 4000, 'n_estimators': 100}\n",
      "Fitting 4 folds for each of 15 candidates, totalling 60 fits\n"
     ]
    },
    {
     "name": "stderr",
     "output_type": "stream",
     "text": [
      "[Parallel(n_jobs=-1)]: Using backend LokyBackend with 8 concurrent workers.\n",
      "[Parallel(n_jobs=-1)]: Done  34 tasks      | elapsed:  4.4min\n",
      "[Parallel(n_jobs=-1)]: Done  60 out of  60 | elapsed:  7.8min finished\n"
     ]
    },
    {
     "name": "stdout",
     "output_type": "stream",
     "text": [
      "best model parameters: {'max_depth': 30, 'max_features': 4000, 'n_estimators': 100}\n",
      "Fitting 4 folds for each of 15 candidates, totalling 60 fits\n"
     ]
    },
    {
     "name": "stderr",
     "output_type": "stream",
     "text": [
      "[Parallel(n_jobs=-1)]: Using backend LokyBackend with 8 concurrent workers.\n",
      "[Parallel(n_jobs=-1)]: Done  34 tasks      | elapsed:  4.0min\n",
      "[Parallel(n_jobs=-1)]: Done  60 out of  60 | elapsed:  6.9min finished\n"
     ]
    },
    {
     "name": "stdout",
     "output_type": "stream",
     "text": [
      "best model parameters: {'max_depth': 100, 'max_features': 8000, 'n_estimators': 100}\n",
      "Fitting 4 folds for each of 15 candidates, totalling 60 fits\n"
     ]
    },
    {
     "name": "stderr",
     "output_type": "stream",
     "text": [
      "[Parallel(n_jobs=-1)]: Using backend LokyBackend with 8 concurrent workers.\n",
      "[Parallel(n_jobs=-1)]: Done  34 tasks      | elapsed:  4.1min\n",
      "[Parallel(n_jobs=-1)]: Done  60 out of  60 | elapsed:  7.3min finished\n"
     ]
    },
    {
     "name": "stdout",
     "output_type": "stream",
     "text": [
      "best model parameters: {'max_depth': 100, 'max_features': 10000, 'n_estimators': 100}\n",
      "Fitting 4 folds for each of 15 candidates, totalling 60 fits\n"
     ]
    },
    {
     "name": "stderr",
     "output_type": "stream",
     "text": [
      "[Parallel(n_jobs=-1)]: Using backend LokyBackend with 8 concurrent workers.\n",
      "[Parallel(n_jobs=-1)]: Done  34 tasks      | elapsed:  6.2min\n",
      "[Parallel(n_jobs=-1)]: Done  60 out of  60 | elapsed: 10.7min finished\n"
     ]
    },
    {
     "name": "stdout",
     "output_type": "stream",
     "text": [
      "best model parameters: {'max_depth': 30, 'max_features': 8000, 'n_estimators': 100}\n",
      "0.713599868149905\n",
      "0.1340097381079837\n"
     ]
    }
   ],
   "source": [
    "ML_algo = RandomForestRegressor()\n",
    "param_grid = {'n_estimators':[100],\n",
    "             'max_depth':[30, 100, 300],\n",
    "             'max_features':[2000, 4000, 6000, 8000, 10000]}\n",
    "\n",
    "models, scores, causal_SNPs_list, top_features_list, y_tests, y_preds = MLpipe_KFold_RMSE(X,ML_algo,param_grid)"
   ]
  },
  {
   "cell_type": "code",
   "execution_count": 14,
   "metadata": {},
   "outputs": [],
   "source": [
    "captured_top_30 = []\n",
    "captured_top_100 = []\n",
    "captured_top_1000 = []\n",
    "captured_top_30_p = []\n",
    "captured_top_100_p = []\n",
    "captured_top_1000_p = []\n",
    "\n",
    "for i in range(len(top_features_list)):\n",
    "    top_features = top_features_list[i]\n",
    "    causal_SNPs = causal_SNPs_list[i]\n",
    "    top_30 = top_features_list[i][0:30]\n",
    "    top_100 = top_features_list[i][0:100]\n",
    "    top_1000 = top_features_list[i][0:1000]\n",
    "    captured_SNPs_30 = list(set(top_30).intersection(causal_SNPs))\n",
    "    captured_SNPs_100 = list(set(top_100).intersection(causal_SNPs))\n",
    "    captured_SNPs_1000 = list(set(top_1000).intersection(causal_SNPs))\n",
    "    captured_top_30.append(captured_SNPs_30)\n",
    "    captured_top_100.append(captured_SNPs_100)\n",
    "    captured_top_1000.append(captured_SNPs_1000)\n",
    "    captured_top_30_p.append(len(captured_SNPs_30)/ncausal_SNPs)\n",
    "    captured_top_100_p.append(len(captured_SNPs_100)/ncausal_SNPs)\n",
    "    captured_top_1000_p.append(len(captured_SNPs_1000)/ncausal_SNPs)"
   ]
  },
  {
   "cell_type": "code",
   "execution_count": 15,
   "metadata": {},
   "outputs": [
    {
     "name": "stdout",
     "output_type": "stream",
     "text": [
      "0.4966666666666666\n",
      "0.08359957469322968\n",
      "0.7066666666666667\n",
      "0.05537749241945384\n",
      "0.7366666666666666\n",
      "0.05044248650140522\n"
     ]
    }
   ],
   "source": [
    "print(np.mean(captured_top_30_p))\n",
    "print(np.std(captured_top_30_p))\n",
    "print(np.mean(captured_top_100_p))\n",
    "print(np.std(captured_top_100_p))\n",
    "print(np.mean(captured_top_1000_p))\n",
    "print(np.std(captured_top_1000_p))"
   ]
  },
  {
   "cell_type": "code",
   "execution_count": 16,
   "metadata": {},
   "outputs": [],
   "source": [
    "prop_30 = np.mean(captured_top_30_p)\n",
    "prop_100 = np.mean(captured_top_100_p)\n",
    "prop_1000 = np.mean(captured_top_1000_p)\n",
    "std_30 = np.std(captured_top_30_p)\n",
    "std_100 = np.std(captured_top_100_p)\n",
    "std_1000 = np.std(captured_top_1000_p)"
   ]
  },
  {
   "cell_type": "code",
   "execution_count": 17,
   "metadata": {},
   "outputs": [],
   "source": [
    "props = [prop_30, prop_100, prop_1000]\n",
    "stds = [std_30, std_100, std_1000]\n",
    "stds_2 = [std_10*2, std_100*2, std_1000*2]"
   ]
  },
  {
   "cell_type": "code",
   "execution_count": 18,
   "metadata": {},
   "outputs": [],
   "source": [
    "range_top_30_p = [prop_30 - 2*std_30, prop_30+ 2*std_30]\n",
    "range_top_100_p = [prop_100 - 2*std_100, prop_100+ 2*std_100]\n",
    "range_top_1000_p = [prop_1000 - 2*std_1000, prop_1000+ 2*std_1000]"
   ]
  },
  {
   "cell_type": "code",
   "execution_count": 19,
   "metadata": {},
   "outputs": [
    {
     "name": "stdout",
     "output_type": "stream",
     "text": [
      "[0.32946751728020723, 0.6638658160531259]\n",
      "[0.595911681827759, 0.8174216515055743]\n",
      "[0.6357816936638562, 0.837551639669477]\n"
     ]
    }
   ],
   "source": [
    "print(range_top_30_p)\n",
    "print(range_top_100_p)\n",
    "print(range_top_1000_p)"
   ]
  },
  {
   "cell_type": "code",
   "execution_count": 110,
   "metadata": {},
   "outputs": [],
   "source": [
    "names = ['Top 30', 'Top 100', 'Top 1000']"
   ]
  },
  {
   "cell_type": "code",
   "execution_count": 112,
   "metadata": {},
   "outputs": [
    {
     "data": {
      "image/png": "[encoded data removed]",
      "text/plain": [
       "<Figure size 432x288 with 1 Axes>"
      ]
     },
     "metadata": {
      "needs_background": "light"
     },
     "output_type": "display_data"
    }
   ],
   "source": [
    "import matplotlib\n",
    "from matplotlib import pylab as plt\n",
    "plt.errorbar(names, props,yerr=stds_2,fmt='o')\n",
    "plt.title('High Heritability With 30 Causal SNPs')\n",
    "plt.ylabel('Proportion of Causal SNPs Captured')\n",
    "plt.xlabel('Number of Top Features from RF Model')\n",
    "plt.show()"
   ]
  },
  {
   "cell_type": "code",
   "execution_count": 29,
   "metadata": {},
   "outputs": [
    {
     "data": {
      "image/png": "[encoded data removed]",
      "text/plain": [
       "<Figure size 432x288 with 1 Axes>"
      ]
     },
     "metadata": {
      "needs_background": "light"
     },
     "output_type": "display_data"
    }
   ],
   "source": [
    "plt.scatter(y_tests[0], y_preds[0])\n",
    "plt.title('High Heritability With 30 Causal SNPs')\n",
    "plt.ylabel('Predictions for Phenotype')\n",
    "plt.xlabel('True Value for Phenotype')\n",
    "plt.xlim(-1, 8)\n",
    "plt.ylim(-1, 8)\n",
    "plt.show()"
   ]
  },
  {
   "cell_type": "code",
   "execution_count": 44,
   "metadata": {},
   "outputs": [
    {
     "data": {
      "text/html": [
       "<div>\n",
       "<style scoped>\n",
       "    .dataframe tbody tr th:only-of-type {\n",
       "        vertical-align: middle;\n",
       "    }\n",
       "\n",
       "    .dataframe tbody tr th {\n",
       "        vertical-align: top;\n",
       "    }\n",
       "\n",
       "    .dataframe thead th {\n",
       "        text-align: right;\n",
       "    }\n",
       "</style>\n",
       "<table border=\"1\" class=\"dataframe\">\n",
       "  <thead>\n",
       "    <tr style=\"text-align: right;\">\n",
       "      <th></th>\n",
       "      <th>feature_names</th>\n",
       "      <th>feature_importance</th>\n",
       "    </tr>\n",
       "  </thead>\n",
       "  <tbody>\n",
       "    <tr>\n",
       "      <th>0</th>\n",
       "      <td>167</td>\n",
       "      <td>29</td>\n",
       "    </tr>\n",
       "    <tr>\n",
       "      <th>1</th>\n",
       "      <td>359</td>\n",
       "      <td>167</td>\n",
       "    </tr>\n",
       "    <tr>\n",
       "      <th>2</th>\n",
       "      <td>911</td>\n",
       "      <td>359</td>\n",
       "    </tr>\n",
       "    <tr>\n",
       "      <th>3</th>\n",
       "      <td>948</td>\n",
       "      <td>789</td>\n",
       "    </tr>\n",
       "    <tr>\n",
       "      <th>4</th>\n",
       "      <td>1300</td>\n",
       "      <td>905</td>\n",
       "    </tr>\n",
       "    <tr>\n",
       "      <th>5</th>\n",
       "      <td>2617</td>\n",
       "      <td>911</td>\n",
       "    </tr>\n",
       "    <tr>\n",
       "      <th>6</th>\n",
       "      <td>2790</td>\n",
       "      <td>1090</td>\n",
       "    </tr>\n",
       "    <tr>\n",
       "      <th>7</th>\n",
       "      <td>2902</td>\n",
       "      <td>1300</td>\n",
       "    </tr>\n",
       "    <tr>\n",
       "      <th>8</th>\n",
       "      <td>3270</td>\n",
       "      <td>2101</td>\n",
       "    </tr>\n",
       "    <tr>\n",
       "      <th>9</th>\n",
       "      <td>3454</td>\n",
       "      <td>2428</td>\n",
       "    </tr>\n",
       "    <tr>\n",
       "      <th>10</th>\n",
       "      <td>3609</td>\n",
       "      <td>2902</td>\n",
       "    </tr>\n",
       "    <tr>\n",
       "      <th>11</th>\n",
       "      <td>3763</td>\n",
       "      <td>3256</td>\n",
       "    </tr>\n",
       "    <tr>\n",
       "      <th>12</th>\n",
       "      <td>4272</td>\n",
       "      <td>4272</td>\n",
       "    </tr>\n",
       "    <tr>\n",
       "      <th>13</th>\n",
       "      <td>4322</td>\n",
       "      <td>4528</td>\n",
       "    </tr>\n",
       "    <tr>\n",
       "      <th>14</th>\n",
       "      <td>4528</td>\n",
       "      <td>5459</td>\n",
       "    </tr>\n",
       "    <tr>\n",
       "      <th>15</th>\n",
       "      <td>4868</td>\n",
       "      <td>5693</td>\n",
       "    </tr>\n",
       "    <tr>\n",
       "      <th>16</th>\n",
       "      <td>5971</td>\n",
       "      <td>5937</td>\n",
       "    </tr>\n",
       "    <tr>\n",
       "      <th>17</th>\n",
       "      <td>6169</td>\n",
       "      <td>5971</td>\n",
       "    </tr>\n",
       "    <tr>\n",
       "      <th>18</th>\n",
       "      <td>6575</td>\n",
       "      <td>6132</td>\n",
       "    </tr>\n",
       "    <tr>\n",
       "      <th>19</th>\n",
       "      <td>6988</td>\n",
       "      <td>6169</td>\n",
       "    </tr>\n",
       "    <tr>\n",
       "      <th>20</th>\n",
       "      <td>7256</td>\n",
       "      <td>6575</td>\n",
       "    </tr>\n",
       "    <tr>\n",
       "      <th>21</th>\n",
       "      <td>7885</td>\n",
       "      <td>6988</td>\n",
       "    </tr>\n",
       "    <tr>\n",
       "      <th>22</th>\n",
       "      <td>7966</td>\n",
       "      <td>7256</td>\n",
       "    </tr>\n",
       "    <tr>\n",
       "      <th>23</th>\n",
       "      <td>8349</td>\n",
       "      <td>7885</td>\n",
       "    </tr>\n",
       "    <tr>\n",
       "      <th>24</th>\n",
       "      <td>8618</td>\n",
       "      <td>7966</td>\n",
       "    </tr>\n",
       "    <tr>\n",
       "      <th>25</th>\n",
       "      <td>9020</td>\n",
       "      <td>8349</td>\n",
       "    </tr>\n",
       "    <tr>\n",
       "      <th>26</th>\n",
       "      <td>9059</td>\n",
       "      <td>8618</td>\n",
       "    </tr>\n",
       "    <tr>\n",
       "      <th>27</th>\n",
       "      <td>9109</td>\n",
       "      <td>9020</td>\n",
       "    </tr>\n",
       "    <tr>\n",
       "      <th>28</th>\n",
       "      <td>9117</td>\n",
       "      <td>9832</td>\n",
       "    </tr>\n",
       "    <tr>\n",
       "      <th>29</th>\n",
       "      <td>9995</td>\n",
       "      <td>9995</td>\n",
       "    </tr>\n",
       "  </tbody>\n",
       "</table>\n",
       "</div>"
      ],
      "text/plain": [
       "    feature_names  feature_importance\n",
       "0             167                  29\n",
       "1             359                 167\n",
       "2             911                 359\n",
       "3             948                 789\n",
       "4            1300                 905\n",
       "5            2617                 911\n",
       "6            2790                1090\n",
       "7            2902                1300\n",
       "8            3270                2101\n",
       "9            3454                2428\n",
       "10           3609                2902\n",
       "11           3763                3256\n",
       "12           4272                4272\n",
       "13           4322                4528\n",
       "14           4528                5459\n",
       "15           4868                5693\n",
       "16           5971                5937\n",
       "17           6169                5971\n",
       "18           6575                6132\n",
       "19           6988                6169\n",
       "20           7256                6575\n",
       "21           7885                6988\n",
       "22           7966                7256\n",
       "23           8349                7885\n",
       "24           8618                7966\n",
       "25           9020                8349\n",
       "26           9059                8618\n",
       "27           9109                9020\n",
       "28           9117                9832\n",
       "29           9995                9995"
      ]
     },
     "execution_count": 44,
     "metadata": {},
     "output_type": "execute_result"
    }
   ],
   "source": [
    "example_features = np.sort(top_features_list[0][0:30])\n",
    "example_causal_snps = np.sort(causal_SNPs_list[0])\n",
    "data={'feature_names':example_features,'feature_importance':example_causal_snps}\n",
    "example_df = pd.DataFrame(data)\n",
    "example_df"
   ]
  },
  {
   "cell_type": "code",
   "execution_count": 48,
   "metadata": {},
   "outputs": [
    {
     "data": {
      "text/plain": [
       "[359,\n",
       " 167,\n",
       " 8618,\n",
       " 9995,\n",
       " 6988,\n",
       " 7885,\n",
       " 911,\n",
       " 4272,\n",
       " 4528,\n",
       " 6575,\n",
       " 5971,\n",
       " 1300,\n",
       " 2902,\n",
       " 7256,\n",
       " 6169,\n",
       " 9020,\n",
       " 8349,\n",
       " 7966]"
      ]
     },
     "execution_count": 48,
     "metadata": {},
     "output_type": "execute_result"
    }
   ],
   "source": [
    "captured_SNPs_30 = list(set(example_features).intersection(example_causal_snps))\n",
    "captured_SNPs_30"
   ]
  },
  {
   "cell_type": "markdown",
   "metadata": {},
   "source": [
    "## Different Number of Causal SNPs and Heritability"
   ]
  },
  {
   "cell_type": "markdown",
   "metadata": {},
   "source": [
    "### 10 Causal SNPs with High Heritability"
   ]
  },
  {
   "cell_type": "code",
   "execution_count": 49,
   "metadata": {},
   "outputs": [
    {
     "name": "stderr",
     "output_type": "stream",
     "text": [
      "<ipython-input-49-f3167bcc3144>:9: RuntimeWarning: invalid value encountered in true_divide\n",
      "  X=np.nan_to_num((X-Xmean)/Xstd) # Standardized genotype matrix based on means and standard deviations\n"
     ]
    }
   ],
   "source": [
    "from sklearn.decomposition import PCA\n",
    "n=X.shape[0]\n",
    "p=X.shape[1]\n",
    "ncausal_SNPs=10\n",
    "\n",
    "## Normalize genotype data:\n",
    "Xmean= np.mean(X, axis=0) #mean of each column, which corresponds to a SNP locus\n",
    "Xstd= np.std(X,axis=0) #standard deviation of each column\n",
    "X=np.nan_to_num((X-Xmean)/Xstd) # Standardized genotype matrix based on means and standard deviations\n",
    "# of each SNP locus. This is the final X. I use np.nan_to_num in case we get NaN values due to \n",
    "# 0 division, i.e. if everything in a column is 0, the mean and standard deviation will also be 0, \n",
    "# then we will get NaN values. np.nan_to_num turns NaNs into \"0\"s. This seemed like a good idea to me\n",
    "H2= 0.8 #90% of phenotypic variation is explained by genotype (heritability)\n",
    "rho= 1 #100% of H^2 is explained by additive effects "
   ]
  },
  {
   "cell_type": "code",
   "execution_count": 50,
   "metadata": {
    "scrolled": true
   },
   "outputs": [
    {
     "name": "stdout",
     "output_type": "stream",
     "text": [
      "Fitting 4 folds for each of 15 candidates, totalling 60 fits\n"
     ]
    },
    {
     "name": "stderr",
     "output_type": "stream",
     "text": [
      "[Parallel(n_jobs=-1)]: Using backend LokyBackend with 8 concurrent workers.\n",
      "[Parallel(n_jobs=-1)]: Done  34 tasks      | elapsed:  3.5min\n",
      "[Parallel(n_jobs=-1)]: Done  60 out of  60 | elapsed:  5.9min finished\n"
     ]
    },
    {
     "name": "stdout",
     "output_type": "stream",
     "text": [
      "best model parameters: {'max_depth': 100, 'max_features': 10000, 'n_estimators': 100}\n",
      "Fitting 4 folds for each of 15 candidates, totalling 60 fits\n"
     ]
    },
    {
     "name": "stderr",
     "output_type": "stream",
     "text": [
      "[Parallel(n_jobs=-1)]: Using backend LokyBackend with 8 concurrent workers.\n",
      "[Parallel(n_jobs=-1)]: Done  34 tasks      | elapsed:  5.1min\n",
      "[Parallel(n_jobs=-1)]: Done  60 out of  60 | elapsed:  9.0min finished\n"
     ]
    },
    {
     "name": "stdout",
     "output_type": "stream",
     "text": [
      "best model parameters: {'max_depth': 300, 'max_features': 8000, 'n_estimators': 100}\n",
      "Fitting 4 folds for each of 15 candidates, totalling 60 fits\n"
     ]
    },
    {
     "name": "stderr",
     "output_type": "stream",
     "text": [
      "[Parallel(n_jobs=-1)]: Using backend LokyBackend with 8 concurrent workers.\n",
      "[Parallel(n_jobs=-1)]: Done  34 tasks      | elapsed:  3.9min\n",
      "[Parallel(n_jobs=-1)]: Done  60 out of  60 | elapsed:  6.6min finished\n"
     ]
    },
    {
     "name": "stdout",
     "output_type": "stream",
     "text": [
      "best model parameters: {'max_depth': 30, 'max_features': 8000, 'n_estimators': 100}\n",
      "Fitting 4 folds for each of 15 candidates, totalling 60 fits\n"
     ]
    },
    {
     "name": "stderr",
     "output_type": "stream",
     "text": [
      "[Parallel(n_jobs=-1)]: Using backend LokyBackend with 8 concurrent workers.\n",
      "[Parallel(n_jobs=-1)]: Done  34 tasks      | elapsed:  4.3min\n",
      "[Parallel(n_jobs=-1)]: Done  60 out of  60 | elapsed:  7.4min finished\n"
     ]
    },
    {
     "name": "stdout",
     "output_type": "stream",
     "text": [
      "best model parameters: {'max_depth': 100, 'max_features': 8000, 'n_estimators': 100}\n",
      "Fitting 4 folds for each of 15 candidates, totalling 60 fits\n"
     ]
    },
    {
     "name": "stderr",
     "output_type": "stream",
     "text": [
      "[Parallel(n_jobs=-1)]: Using backend LokyBackend with 8 concurrent workers.\n",
      "[Parallel(n_jobs=-1)]: Done  34 tasks      | elapsed:  3.4min\n",
      "[Parallel(n_jobs=-1)]: Done  60 out of  60 | elapsed:  5.7min finished\n"
     ]
    },
    {
     "name": "stdout",
     "output_type": "stream",
     "text": [
      "best model parameters: {'max_depth': 30, 'max_features': 6000, 'n_estimators': 100}\n",
      "Fitting 4 folds for each of 15 candidates, totalling 60 fits\n"
     ]
    },
    {
     "name": "stderr",
     "output_type": "stream",
     "text": [
      "[Parallel(n_jobs=-1)]: Using backend LokyBackend with 8 concurrent workers.\n",
      "[Parallel(n_jobs=-1)]: Done  34 tasks      | elapsed:  3.7min\n",
      "[Parallel(n_jobs=-1)]: Done  60 out of  60 | elapsed:  6.4min finished\n"
     ]
    },
    {
     "name": "stdout",
     "output_type": "stream",
     "text": [
      "best model parameters: {'max_depth': 300, 'max_features': 8000, 'n_estimators': 100}\n",
      "Fitting 4 folds for each of 15 candidates, totalling 60 fits\n"
     ]
    },
    {
     "name": "stderr",
     "output_type": "stream",
     "text": [
      "[Parallel(n_jobs=-1)]: Using backend LokyBackend with 8 concurrent workers.\n",
      "[Parallel(n_jobs=-1)]: Done  34 tasks      | elapsed:  5.1min\n",
      "[Parallel(n_jobs=-1)]: Done  60 out of  60 | elapsed:  8.8min finished\n"
     ]
    },
    {
     "name": "stdout",
     "output_type": "stream",
     "text": [
      "best model parameters: {'max_depth': 300, 'max_features': 10000, 'n_estimators': 100}\n",
      "Fitting 4 folds for each of 15 candidates, totalling 60 fits\n"
     ]
    },
    {
     "name": "stderr",
     "output_type": "stream",
     "text": [
      "[Parallel(n_jobs=-1)]: Using backend LokyBackend with 8 concurrent workers.\n",
      "[Parallel(n_jobs=-1)]: Done  34 tasks      | elapsed:  3.0min\n",
      "[Parallel(n_jobs=-1)]: Done  60 out of  60 | elapsed:  5.2min finished\n"
     ]
    },
    {
     "name": "stdout",
     "output_type": "stream",
     "text": [
      "best model parameters: {'max_depth': 100, 'max_features': 10000, 'n_estimators': 100}\n",
      "Fitting 4 folds for each of 15 candidates, totalling 60 fits\n"
     ]
    },
    {
     "name": "stderr",
     "output_type": "stream",
     "text": [
      "[Parallel(n_jobs=-1)]: Using backend LokyBackend with 8 concurrent workers.\n",
      "[Parallel(n_jobs=-1)]: Done  34 tasks      | elapsed:  4.2min\n",
      "[Parallel(n_jobs=-1)]: Done  60 out of  60 | elapsed:  7.4min finished\n"
     ]
    },
    {
     "name": "stdout",
     "output_type": "stream",
     "text": [
      "best model parameters: {'max_depth': 300, 'max_features': 10000, 'n_estimators': 100}\n",
      "Fitting 4 folds for each of 15 candidates, totalling 60 fits\n"
     ]
    },
    {
     "name": "stderr",
     "output_type": "stream",
     "text": [
      "[Parallel(n_jobs=-1)]: Using backend LokyBackend with 8 concurrent workers.\n",
      "[Parallel(n_jobs=-1)]: Done  34 tasks      | elapsed:  3.9min\n",
      "[Parallel(n_jobs=-1)]: Done  60 out of  60 | elapsed:  6.7min finished\n"
     ]
    },
    {
     "name": "stdout",
     "output_type": "stream",
     "text": [
      "best model parameters: {'max_depth': 30, 'max_features': 10000, 'n_estimators': 100}\n",
      "0.7605148956104635\n",
      "0.24199438825091196\n"
     ]
    }
   ],
   "source": [
    "ML_algo = RandomForestRegressor()\n",
    "param_grid = {'n_estimators':[100],\n",
    "             'max_depth':[30, 100, 300],\n",
    "             'max_features':[2000, 4000, 6000, 8000, 10000]}\n",
    "\n",
    "models, scores, causal_SNPs_list, top_features_list, y_tests, y_preds = MLpipe_KFold_RMSE(X,ML_algo,param_grid)"
   ]
  },
  {
   "cell_type": "code",
   "execution_count": 66,
   "metadata": {},
   "outputs": [],
   "source": [
    "captured_top_10 = []\n",
    "captured_top_100 = []\n",
    "captured_top_1000 = []\n",
    "captured_top_10_p = []\n",
    "captured_top_100_p = []\n",
    "captured_top_1000_p = []\n",
    "\n",
    "for i in range(len(top_features_list)):\n",
    "    top_features = top_features_list[i]\n",
    "    causal_SNPs = causal_SNPs_list[i]\n",
    "    top_10 = top_features_list[i][0:10]\n",
    "    top_100 = top_features_list[i][0:100]\n",
    "    top_1000 = top_features_list[i][0:1000]\n",
    "    captured_SNPs_10 = list(set(top_10).intersection(causal_SNPs))\n",
    "    captured_SNPs_100 = list(set(top_100).intersection(causal_SNPs))\n",
    "    captured_SNPs_1000 = list(set(top_1000).intersection(causal_SNPs))\n",
    "    captured_top_10.append(captured_SNPs_10)\n",
    "    captured_top_100.append(captured_SNPs_100)\n",
    "    captured_top_1000.append(captured_SNPs_1000)\n",
    "    captured_top_10_p.append(len(captured_SNPs_10)/ncausal_SNPs)\n",
    "    captured_top_100_p.append(len(captured_SNPs_100)/ncausal_SNPs)\n",
    "    captured_top_1000_p.append(len(captured_SNPs_1000)/ncausal_SNPs)"
   ]
  },
  {
   "cell_type": "code",
   "execution_count": 67,
   "metadata": {},
   "outputs": [],
   "source": [
    "prop_10 = np.mean(captured_top_10_p)\n",
    "prop_100 = np.mean(captured_top_100_p)\n",
    "prop_1000 = np.mean(captured_top_1000_p)\n",
    "std_10 = np.std(captured_top_10_p)\n",
    "std_100 = np.std(captured_top_100_p)\n",
    "std_1000 = np.std(captured_top_1000_p)"
   ]
  },
  {
   "cell_type": "code",
   "execution_count": 77,
   "metadata": {},
   "outputs": [],
   "source": [
    "props = [prop_10, prop_100, prop_1000]\n",
    "stds = [std_10, std_100, std_1000]\n",
    "stds_2 = [std_10*2, std_100*2, std_1000*2]"
   ]
  },
  {
   "cell_type": "code",
   "execution_count": 69,
   "metadata": {},
   "outputs": [],
   "source": [
    "range_top_10_p = [prop_10 - 2*std_10, prop_10+ 2*std_10]\n",
    "range_top_100_p = [prop_100 - 2*std_100, prop_100+ 2*std_100]\n",
    "range_top_1000_p = [prop_1000 - 2*std_1000, prop_1000+ 2*std_1000]"
   ]
  },
  {
   "cell_type": "code",
   "execution_count": 70,
   "metadata": {},
   "outputs": [
    {
     "name": "stdout",
     "output_type": "stream",
     "text": [
      "0.5399999999999999\n",
      "0.11135528725660043\n",
      "0.67\n",
      "0.19000000000000003\n",
      "0.68\n",
      "0.18867962264113208\n"
     ]
    }
   ],
   "source": [
    "print(np.mean(captured_top_10_p))\n",
    "print(np.std(captured_top_10_p))\n",
    "print(np.mean(captured_top_100_p))\n",
    "print(np.std(captured_top_100_p))\n",
    "print(np.mean(captured_top_1000_p))\n",
    "print(np.std(captured_top_1000_p))"
   ]
  },
  {
   "cell_type": "code",
   "execution_count": 71,
   "metadata": {},
   "outputs": [
    {
     "name": "stdout",
     "output_type": "stream",
     "text": [
      "[0.31728942548679906, 0.7627105745132008]\n",
      "[0.29, 1.05]\n",
      "[0.3026407547177359, 1.0573592452822642]\n"
     ]
    }
   ],
   "source": [
    "print(range_top_10_p)\n",
    "print(range_top_100_p)\n",
    "print(range_top_1000_p)"
   ]
  },
  {
   "cell_type": "code",
   "execution_count": 117,
   "metadata": {},
   "outputs": [],
   "source": [
    "names = ['Top 10', 'Top 100', 'Top 1000']"
   ]
  },
  {
   "cell_type": "code",
   "execution_count": 119,
   "metadata": {},
   "outputs": [
    {
     "data": {
      "image/png": "[encoded data removed]",
      "text/plain": [
       "<Figure size 432x288 with 1 Axes>"
      ]
     },
     "metadata": {
      "needs_background": "light"
     },
     "output_type": "display_data"
    }
   ],
   "source": [
    "import matplotlib\n",
    "from matplotlib import pylab as plt\n",
    "plt.errorbar(names, props,yerr=stds_2,fmt='o')\n",
    "plt.title('High Heritability With 10 Causal SNPs')\n",
    "plt.ylabel('Proportion of Causal SNPs Captured')\n",
    "plt.xlabel('Number of Top Features from RF Model')\n",
    "plt.show()"
   ]
  },
  {
   "cell_type": "code",
   "execution_count": 79,
   "metadata": {},
   "outputs": [
    {
     "data": {
      "image/png": "[encoded data removed]",
      "text/plain": [
       "<Figure size 432x288 with 1 Axes>"
      ]
     },
     "metadata": {
      "needs_background": "light"
     },
     "output_type": "display_data"
    }
   ],
   "source": [
    "plt.scatter(y_tests[0], y_preds[0])\n",
    "plt.ylabel('Predictions for Phenotype')\n",
    "plt.xlabel('True Value for Phenotype')\n",
    "plt.title('High Heritability With 10 Causal SNPs')\n",
    "plt.xlim(-2, 6)\n",
    "plt.ylim(-2, 6)\n",
    "plt.show()"
   ]
  },
  {
   "cell_type": "markdown",
   "metadata": {},
   "source": [
    "### 50 Causal SNPs with Lower Heritability"
   ]
  },
  {
   "cell_type": "code",
   "execution_count": 80,
   "metadata": {},
   "outputs": [
    {
     "name": "stderr",
     "output_type": "stream",
     "text": [
      "<ipython-input-80-a6312c6cc52a>:9: RuntimeWarning: invalid value encountered in true_divide\n",
      "  X=np.nan_to_num((X-Xmean)/Xstd) # Standardized genotype matrix based on means and standard deviations\n"
     ]
    }
   ],
   "source": [
    "from sklearn.decomposition import PCA\n",
    "n=X.shape[0]\n",
    "p=X.shape[1]\n",
    "ncausal_SNPs=50\n",
    "\n",
    "## Normalize genotype data:\n",
    "Xmean= np.mean(X, axis=0) #mean of each column, which corresponds to a SNP locus\n",
    "Xstd= np.std(X,axis=0) #standard deviation of each column\n",
    "X=np.nan_to_num((X-Xmean)/Xstd) # Standardized genotype matrix based on means and standard deviations\n",
    "# of each SNP locus. This is the final X. I use np.nan_to_num in case we get NaN values due to \n",
    "# 0 division, i.e. if everything in a column is 0, the mean and standard deviation will also be 0, \n",
    "# then we will get NaN values. np.nan_to_num turns NaNs into \"0\"s. This seemed like a good idea to me\n",
    "H2= 0.6 #90% of phenotypic variation is explained by genotype (heritability)\n",
    "rho= 1 #100% of H^2 is explained by additive effects "
   ]
  },
  {
   "cell_type": "code",
   "execution_count": 81,
   "metadata": {},
   "outputs": [
    {
     "name": "stdout",
     "output_type": "stream",
     "text": [
      "Fitting 4 folds for each of 15 candidates, totalling 60 fits\n"
     ]
    },
    {
     "name": "stderr",
     "output_type": "stream",
     "text": [
      "[Parallel(n_jobs=-1)]: Using backend LokyBackend with 8 concurrent workers.\n",
      "[Parallel(n_jobs=-1)]: Done  34 tasks      | elapsed:  4.0min\n",
      "[Parallel(n_jobs=-1)]: Done  60 out of  60 | elapsed:  6.8min finished\n"
     ]
    },
    {
     "name": "stdout",
     "output_type": "stream",
     "text": [
      "best model parameters: {'max_depth': 30, 'max_features': 2000, 'n_estimators': 100}\n",
      "Fitting 4 folds for each of 15 candidates, totalling 60 fits\n"
     ]
    },
    {
     "name": "stderr",
     "output_type": "stream",
     "text": [
      "[Parallel(n_jobs=-1)]: Using backend LokyBackend with 8 concurrent workers.\n",
      "[Parallel(n_jobs=-1)]: Done  34 tasks      | elapsed:  4.7min\n",
      "[Parallel(n_jobs=-1)]: Done  60 out of  60 | elapsed:  8.2min finished\n"
     ]
    },
    {
     "name": "stdout",
     "output_type": "stream",
     "text": [
      "best model parameters: {'max_depth': 30, 'max_features': 2000, 'n_estimators': 100}\n",
      "Fitting 4 folds for each of 15 candidates, totalling 60 fits\n"
     ]
    },
    {
     "name": "stderr",
     "output_type": "stream",
     "text": [
      "[Parallel(n_jobs=-1)]: Using backend LokyBackend with 8 concurrent workers.\n",
      "[Parallel(n_jobs=-1)]: Done  34 tasks      | elapsed:  4.0min\n",
      "[Parallel(n_jobs=-1)]: Done  60 out of  60 | elapsed:  6.8min finished\n"
     ]
    },
    {
     "name": "stdout",
     "output_type": "stream",
     "text": [
      "best model parameters: {'max_depth': 100, 'max_features': 4000, 'n_estimators': 100}\n",
      "Fitting 4 folds for each of 15 candidates, totalling 60 fits\n"
     ]
    },
    {
     "name": "stderr",
     "output_type": "stream",
     "text": [
      "[Parallel(n_jobs=-1)]: Using backend LokyBackend with 8 concurrent workers.\n",
      "[Parallel(n_jobs=-1)]: Done  34 tasks      | elapsed:  4.8min\n",
      "[Parallel(n_jobs=-1)]: Done  60 out of  60 | elapsed:  8.2min finished\n"
     ]
    },
    {
     "name": "stdout",
     "output_type": "stream",
     "text": [
      "best model parameters: {'max_depth': 30, 'max_features': 6000, 'n_estimators': 100}\n",
      "Fitting 4 folds for each of 15 candidates, totalling 60 fits\n"
     ]
    },
    {
     "name": "stderr",
     "output_type": "stream",
     "text": [
      "[Parallel(n_jobs=-1)]: Using backend LokyBackend with 8 concurrent workers.\n",
      "[Parallel(n_jobs=-1)]: Done  34 tasks      | elapsed:  3.6min\n",
      "[Parallel(n_jobs=-1)]: Done  60 out of  60 | elapsed:  6.2min finished\n"
     ]
    },
    {
     "name": "stdout",
     "output_type": "stream",
     "text": [
      "best model parameters: {'max_depth': 300, 'max_features': 6000, 'n_estimators': 100}\n",
      "Fitting 4 folds for each of 15 candidates, totalling 60 fits\n"
     ]
    },
    {
     "name": "stderr",
     "output_type": "stream",
     "text": [
      "[Parallel(n_jobs=-1)]: Using backend LokyBackend with 8 concurrent workers.\n",
      "[Parallel(n_jobs=-1)]: Done  34 tasks      | elapsed:  4.2min\n",
      "[Parallel(n_jobs=-1)]: Done  60 out of  60 | elapsed:  7.4min finished\n"
     ]
    },
    {
     "name": "stdout",
     "output_type": "stream",
     "text": [
      "best model parameters: {'max_depth': 300, 'max_features': 8000, 'n_estimators': 100}\n",
      "Fitting 4 folds for each of 15 candidates, totalling 60 fits\n"
     ]
    },
    {
     "name": "stderr",
     "output_type": "stream",
     "text": [
      "[Parallel(n_jobs=-1)]: Using backend LokyBackend with 8 concurrent workers.\n",
      "[Parallel(n_jobs=-1)]: Done  34 tasks      | elapsed:  5.1min\n",
      "[Parallel(n_jobs=-1)]: Done  60 out of  60 | elapsed:  8.9min finished\n"
     ]
    },
    {
     "name": "stdout",
     "output_type": "stream",
     "text": [
      "best model parameters: {'max_depth': 30, 'max_features': 2000, 'n_estimators': 100}\n",
      "Fitting 4 folds for each of 15 candidates, totalling 60 fits\n"
     ]
    },
    {
     "name": "stderr",
     "output_type": "stream",
     "text": [
      "[Parallel(n_jobs=-1)]: Using backend LokyBackend with 8 concurrent workers.\n",
      "[Parallel(n_jobs=-1)]: Done  34 tasks      | elapsed:  5.0min\n",
      "[Parallel(n_jobs=-1)]: Done  60 out of  60 | elapsed:  8.5min finished\n"
     ]
    },
    {
     "name": "stdout",
     "output_type": "stream",
     "text": [
      "best model parameters: {'max_depth': 300, 'max_features': 4000, 'n_estimators': 100}\n",
      "Fitting 4 folds for each of 15 candidates, totalling 60 fits\n"
     ]
    },
    {
     "name": "stderr",
     "output_type": "stream",
     "text": [
      "[Parallel(n_jobs=-1)]: Using backend LokyBackend with 8 concurrent workers.\n",
      "[Parallel(n_jobs=-1)]: Done  34 tasks      | elapsed:  5.4min\n",
      "[Parallel(n_jobs=-1)]: Done  60 out of  60 | elapsed:  9.2min finished\n"
     ]
    },
    {
     "name": "stdout",
     "output_type": "stream",
     "text": [
      "best model parameters: {'max_depth': 300, 'max_features': 4000, 'n_estimators': 100}\n",
      "Fitting 4 folds for each of 15 candidates, totalling 60 fits\n"
     ]
    },
    {
     "name": "stderr",
     "output_type": "stream",
     "text": [
      "[Parallel(n_jobs=-1)]: Using backend LokyBackend with 8 concurrent workers.\n",
      "[Parallel(n_jobs=-1)]: Done  34 tasks      | elapsed:  3.6min\n",
      "[Parallel(n_jobs=-1)]: Done  60 out of  60 | elapsed:  6.1min finished\n"
     ]
    },
    {
     "name": "stdout",
     "output_type": "stream",
     "text": [
      "best model parameters: {'max_depth': 300, 'max_features': 6000, 'n_estimators': 100}\n",
      "0.873884701887732\n",
      "0.08529963152874559\n"
     ]
    }
   ],
   "source": [
    "ML_algo = RandomForestRegressor()\n",
    "param_grid = {'n_estimators':[100],\n",
    "             'max_depth':[30, 100, 300],\n",
    "             'max_features':[2000, 4000, 6000, 8000, 10000]}\n",
    "\n",
    "models, scores, causal_SNPs_list, top_features_list, y_tests, y_preds = MLpipe_KFold_RMSE(X,ML_algo,param_grid)"
   ]
  },
  {
   "cell_type": "code",
   "execution_count": 99,
   "metadata": {},
   "outputs": [],
   "source": [
    "captured_top_50 = []\n",
    "captured_top_100 = []\n",
    "captured_top_1000 = []\n",
    "captured_top_50_p = []\n",
    "captured_top_100_p = []\n",
    "captured_top_1000_p = []\n",
    "\n",
    "for i in range(len(top_features_list)):\n",
    "    top_features = top_features_list[i]\n",
    "    causal_SNPs = causal_SNPs_list[i]\n",
    "    top_50 = top_features_list[i][0:50]\n",
    "    top_100 = top_features_list[i][0:100]\n",
    "    top_1000 = top_features_list[i][0:1000]\n",
    "    captured_SNPs_50 = list(set(top_50).intersection(causal_SNPs))\n",
    "    captured_SNPs_100 = list(set(top_100).intersection(causal_SNPs))\n",
    "    captured_SNPs_1000 = list(set(top_1000).intersection(causal_SNPs))\n",
    "    captured_top_50.append(captured_SNPs_50)\n",
    "    captured_top_100.append(captured_SNPs_100)\n",
    "    captured_top_1000.append(captured_SNPs_1000)\n",
    "    captured_top_50_p.append(len(captured_SNPs_50)/ncausal_SNPs)\n",
    "    captured_top_100_p.append(len(captured_SNPs_100)/ncausal_SNPs)\n",
    "    captured_top_1000_p.append(len(captured_SNPs_1000)/ncausal_SNPs)"
   ]
  },
  {
   "cell_type": "code",
   "execution_count": 100,
   "metadata": {},
   "outputs": [],
   "source": [
    "prop_50 = np.mean(captured_top_50_p)\n",
    "prop_100 = np.mean(captured_top_100_p)\n",
    "prop_1000 = np.mean(captured_top_1000_p)\n",
    "std_50 = np.std(captured_top_50_p)\n",
    "std_100 = np.std(captured_top_100_p)\n",
    "std_1000 = np.std(captured_top_1000_p)"
   ]
  },
  {
   "cell_type": "code",
   "execution_count": 101,
   "metadata": {},
   "outputs": [],
   "source": [
    "props = [prop_50, prop_100, prop_1000]\n",
    "stds = [std_50, std_100, std_1000]\n",
    "stds_2 = [std_50*2, std_100*2, std_1000*2]"
   ]
  },
  {
   "cell_type": "code",
   "execution_count": 102,
   "metadata": {},
   "outputs": [],
   "source": [
    "range_top_50_p = [prop_50 - 2*std_50, prop_50+ 2*std_50]\n",
    "range_top_100_p = [prop_100 - 2*std_100, prop_100+ 2*std_100]\n",
    "range_top_1000_p = [prop_1000 - 2*std_1000, prop_1000+ 2*std_1000]"
   ]
  },
  {
   "cell_type": "code",
   "execution_count": 103,
   "metadata": {},
   "outputs": [
    {
     "name": "stdout",
     "output_type": "stream",
     "text": [
      "0.38\n",
      "0.07042726744663605\n",
      "0.528\n",
      "0.06273754856543248\n",
      "0.6759999999999999\n",
      "0.05713142742834282\n"
     ]
    }
   ],
   "source": [
    "print(np.mean(captured_top_50_p))\n",
    "print(np.std(captured_top_50_p))\n",
    "print(np.mean(captured_top_100_p))\n",
    "print(np.std(captured_top_100_p))\n",
    "print(np.mean(captured_top_1000_p))\n",
    "print(np.std(captured_top_1000_p))"
   ]
  },
  {
   "cell_type": "code",
   "execution_count": 104,
   "metadata": {},
   "outputs": [
    {
     "name": "stdout",
     "output_type": "stream",
     "text": [
      "[0.2391454651067279, 0.520854534893272]\n",
      "[0.40252490286913506, 0.6534750971308649]\n",
      "[0.5617371451433143, 0.7902628548566856]\n"
     ]
    }
   ],
   "source": [
    "print(range_top_50_p)\n",
    "print(range_top_100_p)\n",
    "print(range_top_1000_p)"
   ]
  },
  {
   "cell_type": "code",
   "execution_count": 105,
   "metadata": {},
   "outputs": [],
   "source": [
    "names = ['Top 50', 'Top 100', 'Top 1000']"
   ]
  },
  {
   "cell_type": "code",
   "execution_count": 107,
   "metadata": {},
   "outputs": [
    {
     "data": {
      "image/png": "[encoded data removed]",
      "text/plain": [
       "<Figure size 432x288 with 1 Axes>"
      ]
     },
     "metadata": {
      "needs_background": "light"
     },
     "output_type": "display_data"
    }
   ],
   "source": [
    "import matplotlib\n",
    "from matplotlib import pylab as plt\n",
    "plt.errorbar(names, props,yerr=stds_2,fmt='o')\n",
    "plt.title('Lower Heritability With 50 Causal SNPs')\n",
    "plt.ylabel('Proportion of Causal SNPs Captured')\n",
    "plt.xlabel('Number of Top Features from RF Model')\n",
    "plt.show()"
   ]
  },
  {
   "cell_type": "code",
   "execution_count": 108,
   "metadata": {},
   "outputs": [
    {
     "data": {
      "image/png": "[encoded data removed]",
      "text/plain": [
       "<Figure size 432x288 with 1 Axes>"
      ]
     },
     "metadata": {
      "needs_background": "light"
     },
     "output_type": "display_data"
    }
   ],
   "source": [
    "plt.scatter(y_tests[0], y_preds[0])\n",
    "plt.ylabel('Predictions for Phenotype')\n",
    "plt.xlabel('True Value for Phenotype')\n",
    "plt.title('Lower Heritability With 50 Causal SNPs')\n",
    "plt.xlim(-2, 5)\n",
    "plt.ylim(-2, 5)\n",
    "plt.show()"
   ]
  },
  {
   "cell_type": "code",
   "execution_count": null,
   "metadata": {},
   "outputs": [],
   "source": []
  }
 ],
 "metadata": {
  "kernelspec": {
   "display_name": "Python 3",
   "language": "python",
   "name": "python3"
  },
  "language_info": {
   "codemirror_mode": {
    "name": "ipython",
    "version": 3
   },
   "file_extension": ".py",
   "mimetype": "text/x-python",
   "name": "python",
   "nbconvert_exporter": "python",
   "pygments_lexer": "ipython3",
   "version": "3.8.3"
  }
 },
 "nbformat": 4,
 "nbformat_minor": 4
}
